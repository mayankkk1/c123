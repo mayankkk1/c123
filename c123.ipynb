{
  "nbformat": 4,
  "nbformat_minor": 0,
  "metadata": {
    "colab": {
      "name": "c123",
      "provenance": [],
      "collapsed_sections": []
    },
    "kernelspec": {
      "name": "python3",
      "display_name": "Python 3"
    },
    "language_info": {
      "name": "python"
    }
  },
  "cells": [
    {
      "cell_type": "code",
      "execution_count": 1,
      "metadata": {
        "id": "tGkzgOng4RGl"
      },
      "outputs": [],
      "source": [
        "import cv2\n",
        "import numpy as np\n",
        "import pandas as pd\n",
        "import seaborn as sns\n",
        "import matplotlib.pyplot as plt\n",
        "from sklearn.datasets import fetch_openml\n",
        "from sklearn.model_selection import train_test_split\n",
        "from sklearn.linear_model import LogisticRegression\n",
        "from sklearn.metrics import accuracy_score\n",
        "from PIL import Image\n",
        "import PIL.ImageOps\n",
        "import os, ssl, time"
      ]
    },
    {
      "cell_type": "code",
      "source": [
        "if (not os.environ.get('PYTHONHTTPSVERIFY', '') and\n",
        "    getattr(ssl, '_create_unverified_context', None)): \n",
        "    ssl._create_default_https_context = ssl._create_unverified_context"
      ],
      "metadata": {
        "id": "sxBWkJvx63Xd"
      },
      "execution_count": 3,
      "outputs": []
    },
    {
      "cell_type": "code",
      "source": [
        "X, y = fetch_openml('mnist_784', version=1, return_X_y=True)\n",
        "print(pd.Series(y).value_counts())\n",
        "classes = ['0', '1', '2','3', '4','5', '6', '7', '8', '9']\n",
        "nclasses = len(classes)"
      ],
      "metadata": {
        "colab": {
          "base_uri": "https://localhost:8080/"
        },
        "id": "17C5tUut57tJ",
        "outputId": "060ef811-a1a2-4616-d406-795e3b10bccb"
      },
      "execution_count": 2,
      "outputs": [
        {
          "output_type": "stream",
          "name": "stdout",
          "text": [
            "1    7877\n",
            "7    7293\n",
            "3    7141\n",
            "2    6990\n",
            "9    6958\n",
            "0    6903\n",
            "6    6876\n",
            "8    6825\n",
            "4    6824\n",
            "5    6313\n",
            "Name: class, dtype: int64\n"
          ]
        }
      ]
    },
    {
      "cell_type": "code",
      "source": [
        "X_train, X_test, y_train, y_test = train_test_split(X, y, random_state=9, train_size=7500, test_size=2500)\n",
        "\n",
        "X_train_scaled = X_train/255.0\n",
        "X_test_scaled = X_test/255.0"
      ],
      "metadata": {
        "id": "yEG1npls7HCs"
      },
      "execution_count": null,
      "outputs": []
    },
    {
      "cell_type": "code",
      "source": [
        "clf = LogisticRegression(solver='saga', multi_class='multinomial').fit(X_train_scaled, y_train)"
      ],
      "metadata": {
        "id": "gNmE8_VF7p2c"
      },
      "execution_count": null,
      "outputs": []
    },
    {
      "cell_type": "code",
      "source": [
        "y_pred = clf.predict(X_test_scaled)\n",
        "accuracy = accuracy_score(y_test, y_pred)\n",
        "print(\"The accuracy is :- \",accuracy)"
      ],
      "metadata": {
        "id": "oEWqVjbM8OCk"
      },
      "execution_count": null,
      "outputs": []
    },
    {
      "cell_type": "code",
      "source": [
        "cap = cv2.VideoCapture(0)\n",
        "\n",
        "while(True):\n",
        "  try:\n",
        "    ret, frame = cap.read()\n",
        "    gray = cv2.cvtColor(frame, cv2.COLOR_BGR2GRAY)"
      ],
      "metadata": {
        "id": "3Ogt2Y588P0R"
      },
      "execution_count": null,
      "outputs": []
    },
    {
      "cell_type": "code",
      "source": [
        "height, width = gray.shape\n",
        "    upper_left = (int(width / 2 - 56), int(height / 2 - 56))\n",
        "    bottom_right = (int(width / 2 + 56), int(height / 2 + 56))\n",
        "    cv2.rectangle(gray, upper_left, bottom_right, (0, 255, 0), 2)"
      ],
      "metadata": {
        "id": "iLW7xff28lQR"
      },
      "execution_count": null,
      "outputs": []
    },
    {
      "cell_type": "code",
      "source": [
        "roi = gray[upper_left[1]:bottom_right[1], upper_left[0]:bottom_right[0]]"
      ],
      "metadata": {
        "id": "-vdcU3_n89Uv"
      },
      "execution_count": null,
      "outputs": []
    },
    {
      "cell_type": "code",
      "source": [
        "im_pil = Image.fromarray(roi)"
      ],
      "metadata": {
        "id": "Hbix89f-8-Db"
      },
      "execution_count": null,
      "outputs": []
    },
    {
      "cell_type": "code",
      "source": [
        " image_bw = im_pil.convert('L')\n",
        " image_bw_resized = image_bw.resize((28,28), Image.ANTIALIAS)\n",
        "\n",
        " image_bw_resized_inverted = PIL.ImageOps.invert(image_bw_resized)\n",
        " pixel_filter = 20\n",
        " min_pixel = np.percentile(image_bw_resized_inverted, pixel_filter)\n",
        " image_bw_resized_inverted_scaled = np.clip(image_bw_resized_inverted-min_pixel, 0, 255)\n",
        " max_pixel = np.max(image_bw_resized_inverted)\n",
        " image_bw_resized_inverted_scaled = np.asarray(image_bw_resized_inverted_scaled)/max_pixel\n",
        " test_sample = np.array(image_bw_resized_inverted_scaled).reshape(1,784)\n",
        " test_pred = clf.predict(test_sample)\n",
        " print(\"Predicted class is: \", test_pred)"
      ],
      "metadata": {
        "id": "xkLmO0aQ9Rdx"
      },
      "execution_count": null,
      "outputs": []
    },
    {
      "cell_type": "code",
      "source": [
        "cv2.imshow('frame',gray)\n",
        "    if cv2.waitKey(1) & 0xFF == ord('q'):\n",
        "      break\n",
        "  except Exception as e:\n",
        "    pass"
      ],
      "metadata": {
        "id": "-Sr68dNR9kv-"
      },
      "execution_count": null,
      "outputs": []
    },
    {
      "cell_type": "code",
      "source": [
        "cap.release()\n",
        "cv2.destroyAllWindows()"
      ],
      "metadata": {
        "id": "sf8fWU_M-EAr"
      },
      "execution_count": null,
      "outputs": []
    }
  ]
}